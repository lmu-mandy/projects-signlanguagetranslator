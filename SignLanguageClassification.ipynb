{
  "nbformat": 4,
  "nbformat_minor": 0,
  "metadata": {
    "colab": {
      "name": "SignLanguageClassification.ipynb",
      "provenance": [],
      "collapsed_sections": []
    },
    "kernelspec": {
      "name": "python3",
      "display_name": "Python 3"
    },
    "language_info": {
      "name": "python"
    }
  },
  "cells": [
    {
      "cell_type": "code",
      "execution_count": null,
      "metadata": {
        "id": "E4jcwhjzbIdY"
      },
      "outputs": [],
      "source": [
        "import os\n",
        "import numpy as np \n",
        "import pandas as pd\n",
        "import matplotlib.pyplot as plt\n",
        "import seaborn as sns\n",
        "\n",
        "import tensorflow as tf\n",
        "import keras\n",
        "from keras.models import Sequential\n",
        "from keras.layers import Dense, Conv2D , MaxPool2D , Flatten , Dropout , BatchNormalization\n",
        "from keras.preprocessing.image import ImageDataGenerator\n",
        "from keras.callbacks import ReduceLROnPlateau\n",
        "\n",
        "from sklearn.preprocessing import LabelBinarizer\n",
        "from sklearn.model_selection import train_test_split\n",
        "from sklearn.metrics import classification_report,confusion_matrix"
      ]
    },
    {
      "cell_type": "code",
      "source": [
        "# Mounting the google drive so that we can access data from drive\n",
        "from google.colab import drive\n",
        "drive.mount('/content/gdrive')"
      ],
      "metadata": {
        "colab": {
          "base_uri": "https://localhost:8080/"
        },
        "id": "LftFcqlpbWns",
        "outputId": "10953ca3-8dbb-4ab1-dc0a-4a7c4ffb0acd"
      },
      "execution_count": null,
      "outputs": [
        {
          "output_type": "stream",
          "name": "stdout",
          "text": [
            "Mounted at /content/gdrive\n"
          ]
        }
      ]
    },
    {
      "cell_type": "code",
      "source": [
        "# Loading the dataset and saving it in dataframe\n",
        "train_df = pd.read_csv('/content/gdrive/MyDrive/sign_mnist_train/sign_mnist_train.csv')\n",
        "test_df = pd.read_csv('/content/gdrive/MyDrive/sign_mnist_test/sign_mnist_test.csv')"
      ],
      "metadata": {
        "id": "hXVOa1HVbgZ4"
      },
      "execution_count": null,
      "outputs": []
    },
    {
      "cell_type": "code",
      "source": [
        "y_train = train_df['label']\n",
        "y_test = test_df['label']\n",
        "del train_df['label']\n",
        "del test_df['label']"
      ],
      "metadata": {
        "id": "KiQ5Runmbmxu"
      },
      "execution_count": null,
      "outputs": []
    },
    {
      "cell_type": "code",
      "source": [
        "from sklearn.preprocessing import LabelBinarizer\n",
        "label_binarizer = LabelBinarizer()\n",
        "y_train = label_binarizer.fit_transform(y_train)\n",
        "y_test = label_binarizer.fit_transform(y_test)"
      ],
      "metadata": {
        "id": "4vnvRcwObsow"
      },
      "execution_count": null,
      "outputs": []
    },
    {
      "cell_type": "code",
      "source": [
        "x_train = train_df.values\n",
        "x_test = test_df.values\n",
        "x_train = x_train / 255\n",
        "x_test = x_test / 255\n",
        "x_train = x_train.reshape(-1,28,28,1)\n",
        "x_test = x_test.reshape(-1,28,28,1)"
      ],
      "metadata": {
        "id": "ptQz99h1b9d8"
      },
      "execution_count": null,
      "outputs": []
    },
    {
      "cell_type": "code",
      "source": [
        "f, ax = plt.subplots(2,5) \n",
        "f.set_size_inches(10, 10)\n",
        "k = 0\n",
        "for i in range(2):\n",
        "    for j in range(5):\n",
        "        ax[i,j].imshow(x_train[k].reshape(28, 28) , cmap = \"gray\")\n",
        "        k += 1\n",
        "    plt.tight_layout() "
      ],
      "metadata": {
        "colab": {
          "base_uri": "https://localhost:8080/",
          "height": 358
        },
        "id": "QW5M7UfGcBTo",
        "outputId": "387bf060-1c87-4983-aecb-e148e0da442b"
      },
      "execution_count": null,
      "outputs": [
        {
          "output_type": "display_data",
          "data": {
            "text/plain": [
              "<Figure size 720x720 with 10 Axes>"
            ],
            "image/png": "[encoded data removed]"
          },
          "metadata": {
            "needs_background": "light"
          }
        }
      ]
    },
    {
      "cell_type": "code",
      "source": [
        "# Building CNN model\n",
        "model = Sequential()\n",
        "model.add(Conv2D(64, (3,3), strides=1, padding='same', activation='relu', input_shape=(28,28,1)))\n",
        "model.add(BatchNormalization())\n",
        "model.add(Flatten())\n",
        "model.add(Dense(units = 512 , activation = 'relu'))\n",
        "model.add(Dense(units = 24 , activation = 'softmax'))\n",
        "model.compile(optimizer = 'adam' , loss = 'categorical_crossentropy' , metrics = ['accuracy'])"
      ],
      "metadata": {
        "id": "Ah8TDilDcD9X"
      },
      "execution_count": null,
      "outputs": []
    },
    {
      "cell_type": "code",
      "source": [
        "# Represents summary of CNN\n",
        "model.summary()"
      ],
      "metadata": {
        "colab": {
          "base_uri": "https://localhost:8080/"
        },
        "id": "JbbLxmsycJU-",
        "outputId": "c6c6f91a-0b3a-4480-a3de-d4b29687b259"
      },
      "execution_count": null,
      "outputs": [
        {
          "output_type": "stream",
          "name": "stdout",
          "text": [
            "Model: \"sequential\"\n",
            "_________________________________________________________________\n",
            " Layer (type)                Output Shape              Param #   \n",
            "=================================================================\n",
            " conv2d (Conv2D)             (None, 28, 28, 64)        640       \n",
            "                                                                 \n",
            " batch_normalization (BatchN  (None, 28, 28, 64)       256       \n",
            " ormalization)                                                   \n",
            "                                                                 \n",
            " flatten (Flatten)           (None, 50176)             0         \n",
            "                                                                 \n",
            " dense (Dense)               (None, 512)               25690624  \n",
            "                                                                 \n",
            " dense_1 (Dense)             (None, 24)                12312     \n",
            "                                                                 \n",
            "=================================================================\n",
            "Total params: 25,703,832\n",
            "Trainable params: 25,703,704\n",
            "Non-trainable params: 128\n",
            "_________________________________________________________________\n"
          ]
        }
      ]
    },
    {
      "cell_type": "code",
      "source": [
        "learning_rate_reduction = ReduceLROnPlateau(monitor='val_accuracy', \n",
        "                                            patience = 2, \n",
        "                                            verbose=1, \n",
        "                                            factor=0.5,\n",
        "                                            min_lr=0.00001)"
      ],
      "metadata": {
        "id": "8HUceWvucMWH"
      },
      "execution_count": null,
      "outputs": []
    },
    {
      "cell_type": "code",
      "source": [
        "fitted_values1 = model.fit(x_train, y_train, \n",
        "                          batch_size=128,\n",
        "                          epochs = 5, \n",
        "                          validation_data = (x_test, y_test), \n",
        "                          callbacks = [learning_rate_reduction])"
      ],
      "metadata": {
        "colab": {
          "base_uri": "https://localhost:8080/"
        },
        "id": "YIPWQCCGcU5I",
        "outputId": "cc43bfdc-7443-49ee-ef92-48aef9f46de0"
      },
      "execution_count": null,
      "outputs": [
        {
          "output_type": "stream",
          "name": "stdout",
          "text": [
            "Epoch 1/5\n",
            "215/215 [==============================] - 186s 863ms/step - loss: 0.9249 - accuracy: 0.8739 - val_loss: 1.8080 - val_accuracy: 0.6655 - lr: 0.0010\n",
            "Epoch 2/5\n",
            "215/215 [==============================] - 180s 837ms/step - loss: 0.0015 - accuracy: 1.0000 - val_loss: 0.8638 - val_accuracy: 0.7793 - lr: 0.0010\n",
            "Epoch 3/5\n",
            "215/215 [==============================] - 181s 841ms/step - loss: 3.6872e-04 - accuracy: 1.0000 - val_loss: 0.8859 - val_accuracy: 0.7853 - lr: 0.0010\n",
            "Epoch 4/5\n",
            "215/215 [==============================] - 179s 834ms/step - loss: 1.4161e-04 - accuracy: 1.0000 - val_loss: 1.1159 - val_accuracy: 0.7900 - lr: 0.0010\n",
            "Epoch 5/5\n",
            "215/215 [==============================] - 182s 845ms/step - loss: 7.0688e-05 - accuracy: 1.0000 - val_loss: 1.2234 - val_accuracy: 0.7890 - lr: 0.0010\n"
          ]
        }
      ]
    },
    {
      "cell_type": "code",
      "source": [
        "print(\"Accuracy of the model is - \" , model.evaluate(x_test, y_test)[1]*100 , \"%\")"
      ],
      "metadata": {
        "colab": {
          "base_uri": "https://localhost:8080/"
        },
        "id": "V7Zy3279cXkx",
        "outputId": "efea3ae7-49b8-4393-ea93-d46953c719a1"
      },
      "execution_count": null,
      "outputs": [
        {
          "output_type": "stream",
          "name": "stdout",
          "text": [
            "225/225 [==============================] - 12s 51ms/step - loss: 1.2234 - accuracy: 0.7890\n",
            "Accuracy of the model is -  78.90406847000122 %\n"
          ]
        }
      ]
    },
    {
      "cell_type": "code",
      "source": [
        "model = Sequential()\n",
        "model.add(Conv2D(64, (3,3), strides=1, padding='same', activation='relu', input_shape=(28,28,1)))\n",
        "model.add(BatchNormalization())\n",
        "model.add(MaxPool2D((2,2) , strides = 2 , padding = 'same'))\n",
        "model.add(Conv2D(50 , (3,3) , strides = 1 , padding = 'same' , activation = 'relu'))\n",
        "model.add(Dropout(0.2))\n",
        "model.add(BatchNormalization())\n",
        "model.add(MaxPool2D((2,2) , strides = 2 , padding = 'same'))\n",
        "model.add(Conv2D(25 , (3,3) , strides = 1 , padding = 'same' , activation = 'relu'))\n",
        "model.add(BatchNormalization())\n",
        "model.add(MaxPool2D((2,2) , strides = 2 , padding = 'same'))\n",
        "model.add(Flatten())\n",
        "model.add(Dense(units = 512 , activation = 'relu'))\n",
        "model.add(Dropout(0.3))\n",
        "model.add(Dense(units = 24 , activation = 'softmax'))\n",
        "model.compile(optimizer = 'adam' , loss = 'categorical_crossentropy' , metrics = ['accuracy'])"
      ],
      "metadata": {
        "id": "nowBME1UgxL9"
      },
      "execution_count": null,
      "outputs": []
    },
    {
      "cell_type": "code",
      "source": [
        "fitted_values2 = model.fit(x_train, y_train, \n",
        "                          batch_size=128,\n",
        "                          epochs = 5, \n",
        "                          validation_data = (x_test, y_test), \n",
        "                          callbacks = [learning_rate_reduction])"
      ],
      "metadata": {
        "colab": {
          "base_uri": "https://localhost:8080/"
        },
        "id": "NOAbQPl9g7nC",
        "outputId": "2863f2be-b0ba-4d41-d523-139b04ac68b8"
      },
      "execution_count": null,
      "outputs": [
        {
          "output_type": "stream",
          "name": "stdout",
          "text": [
            "Epoch 1/5\n",
            "215/215 [==============================] - 78s 358ms/step - loss: 0.5530 - accuracy: 0.8362 - val_loss: 3.3056 - val_accuracy: 0.0739 - lr: 0.0010\n",
            "Epoch 2/5\n",
            "215/215 [==============================] - 78s 363ms/step - loss: 0.0231 - accuracy: 0.9963 - val_loss: 1.1306 - val_accuracy: 0.6504 - lr: 0.0010\n",
            "Epoch 3/5\n",
            "215/215 [==============================] - 79s 369ms/step - loss: 0.0095 - accuracy: 0.9983 - val_loss: 0.2279 - val_accuracy: 0.9221 - lr: 0.0010\n",
            "Epoch 4/5\n",
            "215/215 [==============================] - 91s 424ms/step - loss: 0.0079 - accuracy: 0.9982 - val_loss: 0.1826 - val_accuracy: 0.9452 - lr: 0.0010\n",
            "Epoch 5/5\n",
            "215/215 [==============================] - 78s 363ms/step - loss: 0.0028 - accuracy: 0.9996 - val_loss: 0.0932 - val_accuracy: 0.9664 - lr: 0.0010\n"
          ]
        }
      ]
    },
    {
      "cell_type": "code",
      "source": [
        "print(\"Accuracy of the model is - \" , model.evaluate(x_test, y_test)[1]*100 , \"%\")"
      ],
      "metadata": {
        "colab": {
          "base_uri": "https://localhost:8080/"
        },
        "id": "1TpRa_Dng_BM",
        "outputId": "957538ca-a05f-4662-d127-87516a776c80"
      },
      "execution_count": null,
      "outputs": [
        {
          "output_type": "stream",
          "name": "stdout",
          "text": [
            "225/225 [==============================] - 5s 23ms/step - loss: 0.0932 - accuracy: 0.9664\n",
            "Accuracy of the model is -  96.63971066474915 %\n"
          ]
        }
      ]
    },
    {
      "cell_type": "code",
      "source": [
        "image_generator = ImageDataGenerator(\n",
        "    featurewise_center=False,\n",
        "    samplewise_center=False,  \n",
        "    featurewise_std_normalization=False,  \n",
        "    samplewise_std_normalization=False,  \n",
        "    zca_whitening=False, \n",
        "    rotation_range=10, \n",
        "    zoom_range = 0.1, \n",
        "    width_shift_range=0.1, \n",
        "    height_shift_range=0.1,  \n",
        "    horizontal_flip=False, \n",
        "    vertical_flip=False)  \n",
        "\n",
        "\n",
        "image_generator.fit(x_train)"
      ],
      "metadata": {
        "id": "_inBWC2eimT4"
      },
      "execution_count": null,
      "outputs": []
    },
    {
      "cell_type": "code",
      "source": [
        "fitted_values3 = model.fit(image_generator.flow(x_train,y_train, batch_size = 128) ,\n",
        "                    epochs = 5, \n",
        "                    validation_data = (x_test, y_test) , \n",
        "                    callbacks = [learning_rate_reduction])"
      ],
      "metadata": {
        "colab": {
          "base_uri": "https://localhost:8080/"
        },
        "id": "HBxjB_Hri6HU",
        "outputId": "48faac27-896b-4211-cb35-f386b0fd962e"
      },
      "execution_count": null,
      "outputs": [
        {
          "output_type": "stream",
          "name": "stdout",
          "text": [
            "Epoch 1/5\n",
            "215/215 [==============================] - 86s 396ms/step - loss: 0.3033 - accuracy: 0.9043 - val_loss: 0.3352 - val_accuracy: 0.8731 - lr: 0.0010\n",
            "Epoch 2/5\n",
            "215/215 [==============================] - 86s 398ms/step - loss: 0.0859 - accuracy: 0.9712 - val_loss: 0.0271 - val_accuracy: 0.9943 - lr: 0.0010\n",
            "Epoch 3/5\n",
            "215/215 [==============================] - 84s 392ms/step - loss: 0.0485 - accuracy: 0.9844 - val_loss: 0.1850 - val_accuracy: 0.9378 - lr: 0.0010\n",
            "Epoch 4/5\n",
            "215/215 [==============================] - ETA: 0s - loss: 0.0377 - accuracy: 0.9877\n",
            "Epoch 4: ReduceLROnPlateau reducing learning rate to 0.0005000000237487257.\n",
            "215/215 [==============================] - 84s 392ms/step - loss: 0.0377 - accuracy: 0.9877 - val_loss: 0.0284 - val_accuracy: 0.9891 - lr: 0.0010\n",
            "Epoch 5/5\n",
            "215/215 [==============================] - 84s 390ms/step - loss: 0.0190 - accuracy: 0.9941 - val_loss: 0.0067 - val_accuracy: 0.9974 - lr: 5.0000e-04\n"
          ]
        }
      ]
    },
    {
      "cell_type": "code",
      "source": [
        "print(\"Accuracy of the model with data augmentation is - \" , model.evaluate(x_test,y_test)[1]*100 , \"%\")"
      ],
      "metadata": {
        "colab": {
          "base_uri": "https://localhost:8080/"
        },
        "id": "fSTTZJCri9RW",
        "outputId": "3d2326bb-c522-4de6-902a-9ba5aeb3a4ec"
      },
      "execution_count": null,
      "outputs": [
        {
          "output_type": "stream",
          "name": "stdout",
          "text": [
            "225/225 [==============================] - 5s 23ms/step - loss: 0.0067 - accuracy: 0.9974\n",
            "Accuracy of the model with data augmentation is -  99.7350811958313 %\n"
          ]
        }
      ]
    },
    {
      "cell_type": "code",
      "source": [
        "model = Sequential()\n",
        "model.add(Conv2D(64, (3,3), strides=1, padding='same', activation='relu', input_shape=(28,28,1)))\n",
        "model.add(BatchNormalization())\n",
        "model.add(MaxPool2D((2,2) , strides = 2 , padding = 'same'))\n",
        "model.add(Conv2D(50 , (3,3) , strides = 1 , padding = 'same' , activation = 'relu'))\n",
        "model.add(Dropout(0.2))\n",
        "model.add(BatchNormalization())\n",
        "model.add(MaxPool2D((2,2) , strides = 2 , padding = 'same'))\n",
        "model.add(Conv2D(25 , (3,3) , strides = 1 , padding = 'same' , activation = 'relu'))\n",
        "model.add(BatchNormalization())\n",
        "model.add(MaxPool2D((2,2) , strides = 2 , padding = 'same'))\n",
        "model.add(Flatten())\n",
        "model.add(Dense(units = 512 , activation = 'relu'))\n",
        "model.add(Dense(units = 24 , activation = 'softmax'))\n",
        "model.compile(optimizer = 'adam' , loss = 'categorical_crossentropy' , metrics = ['accuracy'])"
      ],
      "metadata": {
        "id": "v43ICQ37lJNh"
      },
      "execution_count": null,
      "outputs": []
    },
    {
      "cell_type": "code",
      "source": [
        "fitted_values4 = model.fit(image_generator.flow(x_train,y_train, batch_size = 128),\n",
        "                           epochs = 20, \n",
        "                           validation_data = (x_test, y_test) , \n",
        "                           callbacks = [learning_rate_reduction])"
      ],
      "metadata": {
        "colab": {
          "base_uri": "https://localhost:8080/"
        },
        "id": "jLwUy0bplj-A",
        "outputId": "108b519c-c925-438c-fe1f-3a322b945bde"
      },
      "execution_count": null,
      "outputs": [
        {
          "output_type": "stream",
          "name": "stdout",
          "text": [
            "Epoch 1/20\n",
            "215/215 [==============================] - 85s 392ms/step - loss: 0.8760 - accuracy: 0.7268 - val_loss: 3.2145 - val_accuracy: 0.0732 - lr: 0.0010\n",
            "Epoch 2/20\n",
            "215/215 [==============================] - 88s 410ms/step - loss: 0.1471 - accuracy: 0.9554 - val_loss: 0.8168 - val_accuracy: 0.7421 - lr: 0.0010\n",
            "Epoch 3/20\n",
            "215/215 [==============================] - 85s 396ms/step - loss: 0.0759 - accuracy: 0.9758 - val_loss: 0.0460 - val_accuracy: 0.9908 - lr: 0.0010\n",
            "Epoch 4/20\n",
            "215/215 [==============================] - 85s 394ms/step - loss: 0.0434 - accuracy: 0.9871 - val_loss: 0.0543 - val_accuracy: 0.9791 - lr: 0.0010\n",
            "Epoch 5/20\n",
            "215/215 [==============================] - ETA: 0s - loss: 0.0325 - accuracy: 0.9903\n",
            "Epoch 5: ReduceLROnPlateau reducing learning rate to 0.0005000000237487257.\n",
            "215/215 [==============================] - 85s 394ms/step - loss: 0.0325 - accuracy: 0.9903 - val_loss: 0.0464 - val_accuracy: 0.9813 - lr: 0.0010\n",
            "Epoch 6/20\n",
            "215/215 [==============================] - 85s 397ms/step - loss: 0.0139 - accuracy: 0.9963 - val_loss: 0.0177 - val_accuracy: 0.9948 - lr: 5.0000e-04\n",
            "Epoch 7/20\n",
            "215/215 [==============================] - 86s 398ms/step - loss: 0.0100 - accuracy: 0.9976 - val_loss: 0.0415 - val_accuracy: 0.9820 - lr: 5.0000e-04\n",
            "Epoch 8/20\n",
            "215/215 [==============================] - 89s 413ms/step - loss: 0.0087 - accuracy: 0.9976 - val_loss: 0.0081 - val_accuracy: 0.9978 - lr: 5.0000e-04\n",
            "Epoch 9/20\n",
            "215/215 [==============================] - 88s 407ms/step - loss: 0.0083 - accuracy: 0.9977 - val_loss: 0.0417 - val_accuracy: 0.9865 - lr: 5.0000e-04\n",
            "Epoch 10/20\n",
            "215/215 [==============================] - ETA: 0s - loss: 0.0096 - accuracy: 0.9973\n",
            "Epoch 10: ReduceLROnPlateau reducing learning rate to 0.0002500000118743628.\n",
            "215/215 [==============================] - 88s 410ms/step - loss: 0.0096 - accuracy: 0.9973 - val_loss: 0.0129 - val_accuracy: 0.9969 - lr: 5.0000e-04\n",
            "Epoch 11/20\n",
            "215/215 [==============================] - 88s 409ms/step - loss: 0.0049 - accuracy: 0.9990 - val_loss: 0.0041 - val_accuracy: 0.9990 - lr: 2.5000e-04\n",
            "Epoch 12/20\n",
            "215/215 [==============================] - 87s 406ms/step - loss: 0.0049 - accuracy: 0.9988 - val_loss: 0.0050 - val_accuracy: 0.9993 - lr: 2.5000e-04\n",
            "Epoch 13/20\n",
            "215/215 [==============================] - 87s 405ms/step - loss: 0.0047 - accuracy: 0.9989 - val_loss: 0.0025 - val_accuracy: 1.0000 - lr: 2.5000e-04\n",
            "Epoch 14/20\n",
            "215/215 [==============================] - 87s 406ms/step - loss: 0.0037 - accuracy: 0.9992 - val_loss: 0.0053 - val_accuracy: 0.9997 - lr: 2.5000e-04\n",
            "Epoch 15/20\n",
            "215/215 [==============================] - ETA: 0s - loss: 0.0043 - accuracy: 0.9988\n",
            "Epoch 15: ReduceLROnPlateau reducing learning rate to 0.0001250000059371814.\n",
            "215/215 [==============================] - 88s 408ms/step - loss: 0.0043 - accuracy: 0.9988 - val_loss: 0.0318 - val_accuracy: 0.9897 - lr: 2.5000e-04\n",
            "Epoch 16/20\n",
            "215/215 [==============================] - 87s 405ms/step - loss: 0.0029 - accuracy: 0.9994 - val_loss: 0.0017 - val_accuracy: 1.0000 - lr: 1.2500e-04\n",
            "Epoch 17/20\n",
            "215/215 [==============================] - ETA: 0s - loss: 0.0022 - accuracy: 0.9996\n",
            "Epoch 17: ReduceLROnPlateau reducing learning rate to 6.25000029685907e-05.\n",
            "215/215 [==============================] - 87s 406ms/step - loss: 0.0022 - accuracy: 0.9996 - val_loss: 0.0029 - val_accuracy: 0.9999 - lr: 1.2500e-04\n",
            "Epoch 18/20\n",
            "215/215 [==============================] - 88s 409ms/step - loss: 0.0025 - accuracy: 0.9995 - val_loss: 0.0030 - val_accuracy: 0.9999 - lr: 6.2500e-05\n",
            "Epoch 19/20\n",
            "215/215 [==============================] - ETA: 0s - loss: 0.0023 - accuracy: 0.9996\n",
            "Epoch 19: ReduceLROnPlateau reducing learning rate to 3.125000148429535e-05.\n",
            "215/215 [==============================] - 88s 408ms/step - loss: 0.0023 - accuracy: 0.9996 - val_loss: 0.0027 - val_accuracy: 1.0000 - lr: 6.2500e-05\n",
            "Epoch 20/20\n",
            "215/215 [==============================] - 88s 408ms/step - loss: 0.0020 - accuracy: 0.9997 - val_loss: 0.0027 - val_accuracy: 0.9997 - lr: 3.1250e-05\n"
          ]
        }
      ]
    },
    {
      "cell_type": "code",
      "source": [
        "print(\"Accuracy of the model with data augmentation is  - \" , model.evaluate(x_test, y_test)[1]*100 , \"%\")"
      ],
      "metadata": {
        "colab": {
          "base_uri": "https://localhost:8080/"
        },
        "id": "ikARpuWNlmMm",
        "outputId": "426796ef-4465-4a0a-c21f-0a757b8faf9f"
      },
      "execution_count": null,
      "outputs": [
        {
          "output_type": "stream",
          "name": "stdout",
          "text": [
            "225/225 [==============================] - 5s 24ms/step - loss: 0.0027 - accuracy: 0.9997\n",
            "Accuracy of the model with data augmentation is  -  99.9721109867096 %\n"
          ]
        }
      ]
    },
    {
      "cell_type": "code",
      "source": [
        "epochs = [i for i in range(20)]\n",
        "fig , ax = plt.subplots(1,2)\n",
        "train_acc = fitted_values4.history['accuracy']\n",
        "train_loss = fitted_values4.history['loss']\n",
        "val_acc = fitted_values4.history['val_accuracy']\n",
        "val_loss = fitted_values4.history['val_loss']\n",
        "fig.set_size_inches(16,9)\n",
        "\n",
        "ax[0].plot(epochs , train_acc , 'go-' , label = 'Training Accuracy')\n",
        "ax[0].plot(epochs , val_acc , 'ro-' , label = 'Testing Accuracy')\n",
        "ax[0].set_title('Training & Validation Accuracy')\n",
        "ax[0].legend()\n",
        "ax[0].set_xlabel(\"Epochs\")\n",
        "ax[0].set_ylabel(\"Accuracy\")\n",
        "\n",
        "ax[1].plot(epochs , train_loss , 'g-o' , label = 'Training Loss')\n",
        "ax[1].plot(epochs , val_loss , 'r-o' , label = 'Testing Loss')\n",
        "ax[1].set_title('Testing Accuracy & Loss')\n",
        "ax[1].legend()\n",
        "ax[1].set_xlabel(\"Epochs\")\n",
        "ax[1].set_ylabel(\"Loss\")\n",
        "plt.show()"
      ],
      "metadata": {
        "colab": {
          "base_uri": "https://localhost:8080/",
          "height": 393
        },
        "id": "E-OuozEsolr7",
        "outputId": "1cad0037-563e-47cb-f967-cc66d02f93ba"
      },
      "execution_count": null,
      "outputs": [
        {
          "output_type": "display_data",
          "data": {
            "text/plain": [
              "<Figure size 1152x648 with 2 Axes>"
            ],
            "image/png": "[encoded data removed]"
          },
          "metadata": {
            "needs_background": "light"
          }
        }
      ]
    },
    {
      "cell_type": "code",
      "source": [
        "predictions = model.predict(x_test)"
      ],
      "metadata": {
        "id": "LTlctWU_pEYX"
      },
      "execution_count": null,
      "outputs": []
    },
    {
      "cell_type": "code",
      "source": [
        "# Saving the model\n",
        "model.save(\"sign_language_cnn_model\")"
      ],
      "metadata": {
        "colab": {
          "base_uri": "https://localhost:8080/"
        },
        "id": "e0ZZonOZyNIR",
        "outputId": "1497f114-a540-49f0-d0e3-78a98461787d"
      },
      "execution_count": null,
      "outputs": [
        {
          "output_type": "stream",
          "name": "stdout",
          "text": [
            "INFO:tensorflow:Assets written to: sign_language_cnn_model/assets\n"
          ]
        }
      ]
    },
    {
      "cell_type": "code",
      "source": [
        ""
      ],
      "metadata": {
        "id": "u_P2zK8D9yPq"
      },
      "execution_count": null,
      "outputs": []
    }
  ]
}